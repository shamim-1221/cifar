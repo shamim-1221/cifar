{
 "cells": [
  {
   "cell_type": "code",
   "execution_count": null,
   "id": "933071fc",
   "metadata": {},
   "outputs": [],
   "source": [
    "#Aim: Implement deep learning for recognizing classes for datasets like CIFAR-10 images for previously \n",
    "#        unseen images and assign them to one of the 10 classes."
   ]
  },
  {
   "cell_type": "code",
   "execution_count": null,
   "id": "3ae93ab1",
   "metadata": {},
   "outputs": [],
   "source": []
  },
  {
   "cell_type": "code",
   "execution_count": 1,
   "id": "77790f30",
   "metadata": {},
   "outputs": [
    {
     "name": "stdout",
     "output_type": "stream",
     "text": [
      "Downloading data from https://www.cs.toronto.edu/~kriz/cifar-10-python.tar.gz\n",
      "170500096/170498071 [==============================] - 163s 1us/step\n",
      "170508288/170498071 [==============================] - 163s 1us/step\n",
      "Epoch 1/10\n",
      "782/782 [==============================] - 55s 69ms/step - loss: 1.6200 - accuracy: 0.4153 - val_loss: 1.3694 - val_accuracy: 0.5247\n",
      "Epoch 2/10\n",
      "782/782 [==============================] - 53s 67ms/step - loss: 1.3313 - accuracy: 0.5312 - val_loss: 1.2101 - val_accuracy: 0.5771\n",
      "Epoch 3/10\n",
      "782/782 [==============================] - 50s 64ms/step - loss: 1.2298 - accuracy: 0.5690 - val_loss: 1.1136 - val_accuracy: 0.6188\n",
      "Epoch 4/10\n",
      "782/782 [==============================] - 59s 76ms/step - loss: 1.1530 - accuracy: 0.5966 - val_loss: 1.0571 - val_accuracy: 0.6365\n",
      "Epoch 5/10\n",
      "782/782 [==============================] - 56s 71ms/step - loss: 1.1039 - accuracy: 0.6170 - val_loss: 1.0401 - val_accuracy: 0.6497\n",
      "Epoch 6/10\n",
      "782/782 [==============================] - 61s 78ms/step - loss: 1.0730 - accuracy: 0.6276 - val_loss: 0.9719 - val_accuracy: 0.6688\n",
      "Epoch 7/10\n",
      "782/782 [==============================] - 80s 102ms/step - loss: 1.0369 - accuracy: 0.6378 - val_loss: 1.0057 - val_accuracy: 0.6513\n",
      "Epoch 8/10\n",
      "782/782 [==============================] - 75s 96ms/step - loss: 1.0075 - accuracy: 0.6505 - val_loss: 0.9386 - val_accuracy: 0.6817\n",
      "Epoch 9/10\n",
      "782/782 [==============================] - 97s 124ms/step - loss: 0.9866 - accuracy: 0.6605 - val_loss: 0.9035 - val_accuracy: 0.6924\n",
      "Epoch 10/10\n",
      "782/782 [==============================] - 109s 140ms/step - loss: 0.9656 - accuracy: 0.6662 - val_loss: 0.9018 - val_accuracy: 0.6946\n"
     ]
    }
   ],
   "source": [
    "import tensorflow as tf\n",
    "from tensorflow import keras\n",
    "from tensorflow.keras import layers\n",
    "\n",
    "# Load the data\n",
    "(x_train, y_train), (x_test, y_test) = keras.datasets.cifar10.load_data()\n",
    "\n",
    "# Preprocess the data\n",
    "x_train = x_train.astype(\"float32\") / 255.0\n",
    "x_test = x_test.astype(\"float32\") / 255.0\n",
    "\n",
    "# Convert labels to one-hot encoding format\n",
    "y_train = keras.utils.to_categorical(y_train, 10)\n",
    "y_test = keras.utils.to_categorical(y_test, 10)\n",
    "\n",
    "# Define the model architecture\n",
    "model = keras.Sequential([\n",
    " keras.Input(shape=(32, 32, 3)),\n",
    " layers.Conv2D(32, kernel_size=(3, 3), activation=\"relu\"),\n",
    " layers.MaxPooling2D(pool_size=(2, 2)),\n",
    " layers.Conv2D(64, kernel_size=(3, 3), activation=\"relu\"),\n",
    " layers.MaxPooling2D(pool_size=(2, 2)),\n",
    " layers.Flatten(),\n",
    " layers.Dropout(0.5),\n",
    " layers.Dense(10, activation=\"softmax\"),\n",
    " ])\n",
    "\n",
    "# Compile the model\n",
    "model.compile(loss=\"categorical_crossentropy\",optimizer=\"adam\",metrics=[\"accuracy\"\n",
    "])\n",
    "\n",
    "# Train the model\n",
    "model.fit(x_train,y_train,batch_size=64,epochs=10,validation_data=(x_test,y_test))\n",
    "\n",
    "# Save the trained model to a file\n",
    "model.save(\"cifar10_model.h5\")\n"
   ]
  },
  {
   "cell_type": "code",
   "execution_count": null,
   "id": "fe5fda71",
   "metadata": {},
   "outputs": [],
   "source": []
  },
  {
   "cell_type": "code",
   "execution_count": 7,
   "id": "852099d3",
   "metadata": {},
   "outputs": [
    {
     "name": "stdout",
     "output_type": "stream",
     "text": [
      "Predicted class label: 2\n"
     ]
    }
   ],
   "source": [
    "import numpy as np\n",
    "from PIL import Image\n",
    "\n",
    "# Load the saved model\n",
    "model = keras.models.load_model(\"cifar10_model.h5\")\n",
    "\n",
    "# Load and preprocess the test image\n",
    "img = Image.open(\"two.png\")\n",
    "img = img.resize((32, 32))\n",
    "img_array = np.array(img)\n",
    "img_array = img_array.astype(\"float32\") / 255.0\n",
    "img_array = np.expand_dims(img_array, axis=0)\n",
    "\n",
    "# Make predictions on the test image\n",
    "predictions = model.predict(img_array)\n",
    "\n",
    "# Get the predicted class label\n",
    "class_label = np.argmax(predictions)\n",
    "\n",
    "# Print the predicted class label\n",
    "print(\"Predicted class label:\", class_label)\n"
   ]
  },
  {
   "cell_type": "code",
   "execution_count": null,
   "id": "5669b990",
   "metadata": {},
   "outputs": [],
   "source": []
  },
  {
   "cell_type": "code",
   "execution_count": null,
   "id": "4c96cf3c",
   "metadata": {},
   "outputs": [],
   "source": []
  }
 ],
 "metadata": {
  "kernelspec": {
   "display_name": "Python 3 (ipykernel)",
   "language": "python",
   "name": "python3"
  },
  "language_info": {
   "codemirror_mode": {
    "name": "ipython",
    "version": 3
   },
   "file_extension": ".py",
   "mimetype": "text/x-python",
   "name": "python",
   "nbconvert_exporter": "python",
   "pygments_lexer": "ipython3",
   "version": "3.9.7"
  },
  "varInspector": {
   "cols": {
    "lenName": 16,
    "lenType": 16,
    "lenVar": 40
   },
   "kernels_config": {
    "python": {
     "delete_cmd_postfix": "",
     "delete_cmd_prefix": "del ",
     "library": "var_list.py",
     "varRefreshCmd": "print(var_dic_list())"
    },
    "r": {
     "delete_cmd_postfix": ") ",
     "delete_cmd_prefix": "rm(",
     "library": "var_list.r",
     "varRefreshCmd": "cat(var_dic_list()) "
    }
   },
   "types_to_exclude": [
    "module",
    "function",
    "builtin_function_or_method",
    "instance",
    "_Feature"
   ],
   "window_display": false
  }
 },
 "nbformat": 4,
 "nbformat_minor": 5
}
